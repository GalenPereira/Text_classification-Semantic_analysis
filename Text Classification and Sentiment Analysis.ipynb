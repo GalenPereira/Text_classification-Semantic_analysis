{
 "cells": [
  {
   "cell_type": "markdown",
   "id": "e3a9705f",
   "metadata": {},
   "source": [
    "## Text Classification and Sentiment Analysis on a Labeled dataset \n",
    "### Done by Galen Raphael Pereira\n"
   ]
  },
  {
   "cell_type": "markdown",
   "id": "8eab8d59",
   "metadata": {},
   "source": [
    "###  Reading datasets"
   ]
  },
  {
   "cell_type": "code",
   "execution_count": 1,
   "id": "43d03841",
   "metadata": {},
   "outputs": [],
   "source": [
    "train_x, train_y,test_x, test_y = [], [], [], []\n",
    "\n",
    "#Function to read data from file\n",
    "\n",
    "with open('Training.txt', \"rb\") as f:\n",
    "    data = f.read()\n",
    "for i in str(data)[2:-1].split(\"\\\\n\"):\n",
    "    if i[:10] in [\"__label__1\", \"__label__2\"]:\n",
    "        train_x.append(i[11:].replace(\"\\\\r\",\"\"))\n",
    "        train_y.append(i[:10])  \n",
    "with open('Test.txt', \"rb\") as f:\n",
    "    data = f.read()\n",
    "for i in str(data)[2:-1].split(\"\\\\n\"):\n",
    "    if i[:10] in [\"__label__1\", \"__label__2\"]:\n",
    "        test_x.append(i[11:])\n",
    "        test_y.append(i[:10]) \n"
   ]
  },
  {
   "cell_type": "markdown",
   "id": "23e8eb3f",
   "metadata": {},
   "source": [
    "###  Pre-processing"
   ]
  },
  {
   "cell_type": "code",
   "execution_count": 4,
   "id": "baa3b909",
   "metadata": {},
   "outputs": [],
   "source": [
    "# Load libraries\n",
    "import numpy as np\n",
    "from sklearn.naive_bayes import MultinomialNB, BernoulliNB\n",
    "from sklearn.feature_extraction.text import CountVectorizer\n",
    "from sklearn import tree\n",
    "\n",
    "import nltk\n",
    "# nltk.download('vader_lexicon')\n",
    "from nltk.sentiment.vader import SentimentIntensityAnalyzer"
   ]
  },
  {
   "cell_type": "code",
   "execution_count": 5,
   "id": "5daebbbe",
   "metadata": {},
   "outputs": [
    {
     "name": "stderr",
     "output_type": "stream",
     "text": [
      "[nltk_data] Downloading package stopwords to\n",
      "[nltk_data]     C:\\Users\\galen\\AppData\\Roaming\\nltk_data...\n",
      "[nltk_data]   Unzipping corpora\\stopwords.zip.\n"
     ]
    }
   ],
   "source": [
    "import string\n",
    "from nltk.tokenize import word_tokenize\n",
    "nltk.download('stopwords')\n",
    "from nltk.corpus import stopwords"
   ]
  },
  {
   "cell_type": "code",
   "execution_count": 6,
   "id": "e6b39d1b",
   "metadata": {},
   "outputs": [],
   "source": [
    "#removing punctuation \n",
    "train_data_ver1,test_data_ver1 = [],[]\n",
    "for i in train_x:\n",
    "    train_data_ver1.append(i.translate(i.maketrans(' ', ' ', string.punctuation)))\n",
    "for i in test_x:\n",
    "    test_data_ver1.append(i.translate(i.maketrans(' ', ' ', string.punctuation)))"
   ]
  },
  {
   "cell_type": "code",
   "execution_count": 25,
   "id": "0bb2c8a6",
   "metadata": {},
   "outputs": [],
   "source": [
    "#Tokenizing the datas for train data\n",
    "train_data_ver2,test_data_ver2 = [],[]\n",
    "for i in train_data_ver1:\n",
    "    train_data_ver2.append(word_tokenize(i))\n",
    "for i in test_data_ver1:\n",
    "    test_data_ver2.append(word_tokenize(i))"
   ]
  },
  {
   "cell_type": "code",
   "execution_count": 26,
   "id": "45ade23a",
   "metadata": {},
   "outputs": [],
   "source": [
    "#Removing the stopwords for train data\n",
    "train_data_ver3,test_data_ver3 = [],[]\n",
    "stop_words = set(stopwords.words('english'))\n",
    "for i in train_data_ver2:\n",
    "    train_data_ver3.append([word for word in i if word.lower() not in stop_words])\n",
    "for i in test_data_ver2:\n",
    "    test_data_ver3.append([word for word in i if word.lower() not in stop_words])"
   ]
  },
  {
   "cell_type": "code",
   "execution_count": 27,
   "id": "0eb216ab",
   "metadata": {},
   "outputs": [],
   "source": [
    "#Removing all non alnums\n",
    "train_data_version1,test_data_version1 = [],[]\n",
    "for i in train_data_ver3:\n",
    "    train_data_version1.append([word for word in i if word.isalnum()])\n",
    "for i in test_data_ver3:\n",
    "    test_data_version1.append([word for word in i if word.isalnum()])"
   ]
  },
  {
   "cell_type": "code",
   "execution_count": 28,
   "id": "2bb14e9c",
   "metadata": {},
   "outputs": [],
   "source": [
    "#Making all tokens to lower case\n",
    "train_data_version2,test_data_version2 = [],[]\n",
    "for i in train_data_version1:\n",
    "    train_data_version2.append([word.lower() for word in i])\n",
    "for i in test_data_version1:\n",
    "    test_data_version2.append([word.lower() for word in i])"
   ]
  },
  {
   "cell_type": "code",
   "execution_count": 29,
   "id": "7cd6649f",
   "metadata": {},
   "outputs": [
    {
     "name": "stderr",
     "output_type": "stream",
     "text": [
      "[nltk_data] Downloading package wordnet to\n",
      "[nltk_data]     C:\\Users\\galen\\AppData\\Roaming\\nltk_data...\n",
      "[nltk_data]   Package wordnet is already up-to-date!\n",
      "[nltk_data] Downloading package omw-1.4 to\n",
      "[nltk_data]     C:\\Users\\galen\\AppData\\Roaming\\nltk_data...\n",
      "[nltk_data]   Package omw-1.4 is already up-to-date!\n"
     ]
    }
   ],
   "source": [
    "nltk.download('wordnet')\n",
    "nltk.download('omw-1.4')\n",
    "from nltk.stem import WordNetLemmatizer\n",
    "#Lemmatizing and making ver3 for the data\n",
    "lemmatizer = WordNetLemmatizer()\n",
    "train_data_version3,test_data_version3 = [],[]\n",
    "for i in train_data_version2:\n",
    "    train_data_version3.append([lemmatizer.lemmatize(word) for word in i])\n",
    "for i in test_data_version2:\n",
    "    test_data_version3.append([lemmatizer.lemmatize(word) for word in i])\n"
   ]
  },
  {
   "cell_type": "code",
   "execution_count": 30,
   "id": "8ef7c796",
   "metadata": {},
   "outputs": [
    {
     "name": "stdout",
     "output_type": "stream",
     "text": [
      "['bah', 'review', 'cover', 'episode', '2', '4', 'much', 'alikei', 'delighted', 'first', 'one', 'gone', 'womanish', 'delicate', 'character', 'common', 'yaoi', 'replaced', 'two', 'strong', 'witty', 'male', 'involved', 'dangerous', 'adventuresi', 'know', 'second', 'episode', 'author', 'instead', 'pursuing', 'funfilled', 'path', 'gradually', 'making', 'two', 'men', 'fall', 'decided', 'take', 'serious', 'turn', 'melodramataki', 'heart', 'rending', 'uninteresting', 'past', 'come', 'back', 'literally', 'hunt', 'gone', 'fun', 'humour', 'light', 'hearted', 'adventure', 'replaced', 'endless', 'tear', 'guiltwe', 'back', 'obnoxious', 'routine', 'genre', 'made', 'please', 'romanceloving', 'straight', 'woman', 'gay', 'meni', 'guess', 'give']\n",
      "['bah', 'review', 'covers', 'episodes', '2', '4', 'much', 'alikei', 'delighted', 'first', 'one', 'gone', 'womanish', 'delicate', 'characters', 'common', 'yaoi', 'replaced', 'two', 'strong', 'witty', 'males', 'involved', 'dangerous', 'adventuresi', 'know', 'second', 'episode', 'author', 'instead', 'pursuing', 'funfilled', 'path', 'gradually', 'making', 'two', 'men', 'fall', 'decided', 'take', 'serious', 'turn', 'melodramataki', 'heart', 'rending', 'uninteresting', 'past', 'comes', 'back', 'literally', 'hunt', 'gone', 'fun', 'humour', 'light', 'hearted', 'adventures', 'replaced', 'endless', 'tears', 'guiltwe', 'back', 'obnoxious', 'routine', 'genre', 'made', 'please', 'romanceloving', 'straight', 'women', 'gay', 'meni', 'guess', 'give']\n"
     ]
    }
   ],
   "source": [
    "print(train_data_version3[100])\n",
    "print(train_data_version2[100])"
   ]
  },
  {
   "cell_type": "markdown",
   "id": "8076ec8a",
   "metadata": {},
   "source": [
    "### EDA"
   ]
  },
  {
   "cell_type": "code",
   "execution_count": 31,
   "id": "a7b284b1",
   "metadata": {},
   "outputs": [],
   "source": [
    "# We have 2 dataset, train and test dataset, lets see the proportion of the pos and neg in each of\n",
    "# these dataset\n",
    "from collections import Counter\n",
    "import matplotlib.pyplot as plt"
   ]
  },
  {
   "cell_type": "code",
   "execution_count": 32,
   "id": "a7a938f1",
   "metadata": {
    "scrolled": true
   },
   "outputs": [
    {
     "data": {
      "image/png": "[encoded data removed]",
      "text/plain": [
       "<Figure size 1400x600 with 1 Axes>"
      ]
     },
     "metadata": {},
     "output_type": "display_data"
    }
   ],
   "source": [
    "plt.figure(figsize=(14,6))\n",
    "plt.title(\"TARGET VALUES\")\n",
    "sentiments_count_train = Counter(train_y)\n",
    "sentiments_count_test = Counter(test_y)\n",
    "plt.bar(sentiments_count_train.keys(), sentiments_count_train.values())\n",
    "# plt.bar(test_y.keys(), Counter.values())\n",
    "plt.show()"
   ]
  },
  {
   "cell_type": "code",
   "execution_count": 33,
   "id": "1468cdfa",
   "metadata": {},
   "outputs": [
    {
     "data": {
      "image/png": "[encoded data removed]",
      "text/plain": [
       "<Figure size 1200x800 with 1 Axes>"
      ]
     },
     "metadata": {},
     "output_type": "display_data"
    }
   ],
   "source": [
    "plt.figure(figsize=(12,8))\n",
    "plt.title(\"PIE\")\n",
    "plt.pie(sentiments_count_train.values(), labels = sentiments_count_train.keys(), autopct='%1.1f%%')\n",
    "plt.show()\n"
   ]
  },
  {
   "cell_type": "code",
   "execution_count": 34,
   "id": "80740885",
   "metadata": {},
   "outputs": [
    {
     "data": {
      "image/png": "[encoded data removed]",
      "text/plain": [
       "<Figure size 640x480 with 1 Axes>"
      ]
     },
     "metadata": {},
     "output_type": "display_data"
    }
   ],
   "source": [
    "num_unique_ver1 = len(test_data_version1)\n",
    "num_unique_ver2 = len(test_data_version2)\n",
    "num_unique_ver3 = len(test_data_version3)\n",
    "plt.figure()\n",
    "plt.bar(['test version 1','test version 2','test version 3'], [num_unique_ver1,num_unique_ver2,num_unique_ver3])\n",
    "plt.show()"
   ]
  },
  {
   "cell_type": "code",
   "execution_count": 35,
   "id": "949d228a",
   "metadata": {},
   "outputs": [
    {
     "data": {
      "image/png": "[encoded data removed]",
      "text/plain": [
       "<Figure size 640x480 with 1 Axes>"
      ]
     },
     "metadata": {},
     "output_type": "display_data"
    }
   ],
   "source": [
    "num_unique_ver1 = len(train_data_version1)\n",
    "num_unique_ver2 = len(train_data_version2)\n",
    "num_unique_ver3 = len(train_data_version3)\n",
    "plt.figure()\n",
    "plt.bar(['train version 1','train version 2','train version 3'], [num_unique_ver1,num_unique_ver2,num_unique_ver3])\n",
    "plt.show()"
   ]
  },
  {
   "cell_type": "code",
   "execution_count": 36,
   "id": "600034ab",
   "metadata": {},
   "outputs": [
    {
     "data": {
      "image/png": "[encoded data removed]",
      "text/plain": [
       "<Figure size 1000x500 with 1 Axes>"
      ]
     },
     "metadata": {},
     "output_type": "display_data"
    }
   ],
   "source": [
    "plt.figure(figsize=(10,5))\n",
    "plt.title(\"TARGET VALUES\")\n",
    "sentiments_count_train = Counter(train_y)\n",
    "sentiments_count_test = Counter(test_y)\n",
    "plt.bar(sentiments_count_test.keys(), sentiments_count_test.values())\n",
    "# plt.bar(test_y.keys(), Counter.values())\n",
    "plt.show()"
   ]
  },
  {
   "cell_type": "markdown",
   "id": "ec92b855",
   "metadata": {},
   "source": [
    "#### During the analysis we have seen less and less datas available from each version, due to different methods of clearing used. We can also notify in the both train and test dataset we have the similar amount of pos and neg datas."
   ]
  },
  {
   "cell_type": "markdown",
   "id": "5f264c7d",
   "metadata": {},
   "source": [
    "### Sentiment classification using Machine Learning"
   ]
  },
  {
   "cell_type": "code",
   "execution_count": 37,
   "id": "bcfd5a6c",
   "metadata": {},
   "outputs": [],
   "source": [
    "from sklearn.feature_extraction.text import CountVectorizer\n",
    "from sklearn.feature_extraction.text import TfidfVectorizer\n",
    "\n",
    "from sklearn.naive_bayes import MultinomialNB\n",
    "from sklearn.metrics import accuracy_score\n",
    "def get_data(data):\n",
    "    new_data = []\n",
    "    for i in data:\n",
    "        new_data.append(' '.join(s for s in i))\n",
    "    return new_data\n",
    "vectorizer = TfidfVectorizer()\n",
    "X_train_version1_vec = vectorizer.fit_transform(get_data(train_data_version1))\n",
    "X_test_version1_vec = vectorizer.transform(get_data(test_data_version1))\n",
    "X_train_version2_vec = vectorizer.fit_transform(get_data(train_data_version2))\n",
    "X_test_version2_vec = vectorizer.transform(get_data(test_data_version2))\n",
    "X_train_version3_vec = vectorizer.fit_transform(get_data(train_data_version3))\n",
    "X_test_version3_vec = vectorizer.transform(get_data(test_data_version3))"
   ]
  },
  {
   "cell_type": "code",
   "execution_count": 38,
   "id": "294388b6",
   "metadata": {},
   "outputs": [
    {
     "name": "stdout",
     "output_type": "stream",
     "text": [
      "version 1 accuracy =  0.84146\n"
     ]
    }
   ],
   "source": [
    "#MultinomialNB (supervised learning) model training for version 1\n",
    "mnb1 = MultinomialNB()\n",
    "mnb1.fit(X_train_version1_vec, train_y)\n",
    "# MultinomialNB (supervised learning) model prediction for version 1 \n",
    "y_pred1 = mnb1.predict(X_test_version1_vec)\n",
    "print(\"version 1 accuracy = \", accuracy_score(test_y, y_pred1))"
   ]
  },
  {
   "cell_type": "code",
   "execution_count": 39,
   "id": "7fe80757",
   "metadata": {},
   "outputs": [
    {
     "name": "stdout",
     "output_type": "stream",
     "text": [
      "version 2 accuracy =  0.84146\n"
     ]
    }
   ],
   "source": [
    "#MultinomialNB (supervised learning) model training for version 2\n",
    "mnb2 = MultinomialNB()\n",
    "mnb2.fit(X_train_version2_vec, train_y)\n",
    "# MultinomialNB (supervised learning) model prediction for version 2 \n",
    "y_pred2 = mnb2.predict(X_test_version2_vec)\n",
    "print(\"version 2 accuracy = \", accuracy_score(test_y, y_pred2))"
   ]
  },
  {
   "cell_type": "code",
   "execution_count": 40,
   "id": "2d0408bb",
   "metadata": {},
   "outputs": [
    {
     "name": "stdout",
     "output_type": "stream",
     "text": [
      "version 3 accuracy =  0.84051\n"
     ]
    }
   ],
   "source": [
    "#MultinomialNB (supervised learning) model training for version 3\n",
    "mnb3 = MultinomialNB()\n",
    "mnb3.fit(X_train_version3_vec, train_y)\n",
    "# MultinomialNB (supervised learning) model prediction for version 3 \n",
    "y_pred1 = mnb3.predict(X_test_version3_vec)\n",
    "print(\"version 3 accuracy = \", accuracy_score(test_y, y_pred1))"
   ]
  },
  {
   "cell_type": "markdown",
   "id": "608dba4d",
   "metadata": {},
   "source": [
    "Accuracy of version 3 is less than version 2 and 1"
   ]
  },
  {
   "cell_type": "code",
   "execution_count": 41,
   "id": "93942b40",
   "metadata": {},
   "outputs": [
    {
     "name": "stderr",
     "output_type": "stream",
     "text": [
      "C:\\Users\\galen\\AppData\\Roaming\\Python\\Python310\\site-packages\\sklearn\\cluster\\_kmeans.py:870: FutureWarning: The default value of `n_init` will change from 10 to 'auto' in 1.4. Set the value of `n_init` explicitly to suppress the warning\n",
      "  warnings.warn(\n"
     ]
    },
    {
     "name": "stdout",
     "output_type": "stream",
     "text": [
      "version 1 accuracy =  0.5153133333333333\n"
     ]
    }
   ],
   "source": [
    "from sklearn.cluster import KMeans\n",
    "#KMeans\n",
    "kmeans1 = KMeans(n_clusters=2)\n",
    "kmeans1.fit(X_train_version1_vec)\n",
    "clusters1 = kmeans1.labels_\n",
    "mapping = {0:'__label__1', 1:'__label__2'}\n",
    "y_pred_1 = [mapping[i] for i in clusters1]\n",
    "print(\"version 1 accuracy = \", accuracy_score(train_y, y_pred_1))"
   ]
  },
  {
   "cell_type": "code",
   "execution_count": 42,
   "id": "1eb77ab2",
   "metadata": {},
   "outputs": [
    {
     "name": "stderr",
     "output_type": "stream",
     "text": [
      "C:\\Users\\galen\\AppData\\Roaming\\Python\\Python310\\site-packages\\sklearn\\cluster\\_kmeans.py:870: FutureWarning: The default value of `n_init` will change from 10 to 'auto' in 1.4. Set the value of `n_init` explicitly to suppress the warning\n",
      "  warnings.warn(\n"
     ]
    },
    {
     "name": "stdout",
     "output_type": "stream",
     "text": [
      "version 2 accuracy =  0.5153133333333333\n"
     ]
    }
   ],
   "source": [
    "#KMeans\n",
    "kmeans2 = KMeans(n_clusters=2)\n",
    "kmeans2.fit(X_train_version2_vec)\n",
    "clusters2 = kmeans2.labels_\n",
    "mapping = {0:'__label__1', 1:'__label__2'}\n",
    "y_pred_2 = [mapping[i] for i in clusters2]\n",
    "print(\"version 2 accuracy = \", accuracy_score(train_y, y_pred_2))"
   ]
  },
  {
   "cell_type": "code",
   "execution_count": 43,
   "id": "76b1e4f0",
   "metadata": {},
   "outputs": [
    {
     "name": "stderr",
     "output_type": "stream",
     "text": [
      "C:\\Users\\galen\\AppData\\Roaming\\Python\\Python310\\site-packages\\sklearn\\cluster\\_kmeans.py:870: FutureWarning: The default value of `n_init` will change from 10 to 'auto' in 1.4. Set the value of `n_init` explicitly to suppress the warning\n",
      "  warnings.warn(\n"
     ]
    },
    {
     "name": "stdout",
     "output_type": "stream",
     "text": [
      "version 3 accuracy =  0.5153133333333333\n"
     ]
    }
   ],
   "source": [
    "#KMeans \n",
    "kmeans3 = KMeans(n_clusters=2)\n",
    "kmeans3.fit(X_train_version1_vec)\n",
    "clusters3 = kmeans3.labels_\n",
    "mapping = {0:'__label__1', 1:'__label__2'}\n",
    "y_pred_3 = [mapping[i] for i in clusters3]\n",
    "print(\"version 3 accuracy = \", accuracy_score(train_y, y_pred_3))"
   ]
  },
  {
   "cell_type": "markdown",
   "id": "12ec5e22",
   "metadata": {},
   "source": [
    "### Sentiment classification using VADER sentiment lexicon"
   ]
  },
  {
   "cell_type": "code",
   "execution_count": 44,
   "id": "c97955fe",
   "metadata": {},
   "outputs": [
    {
     "name": "stdout",
     "output_type": "stream",
     "text": [
      "['purchase', 'knife', 'Amazon', 'waiting', 'nearly', 'two', 'months', 'knife', 'ship', 'finally', 'canceled', 'order', 'purchase', 'knife', 'Amazon', 'shipping', 'status', 'say', 'Usually', 'ships', 'within', '24', 'hours', 'Go', 'online', 'vendors', 'knife', 'worth', 'owning']\n"
     ]
    }
   ],
   "source": [
    "print(train_data_version1[10])"
   ]
  },
  {
   "cell_type": "code",
   "execution_count": 45,
   "id": "a6f9a713",
   "metadata": {},
   "outputs": [
    {
     "name": "stderr",
     "output_type": "stream",
     "text": [
      "[nltk_data] Downloading package vader_lexicon to\n",
      "[nltk_data]     C:\\Users\\galen\\AppData\\Roaming\\nltk_data...\n"
     ]
    }
   ],
   "source": [
    "nltk.downloader.download('vader_lexicon')\n",
    "from nltk.sentiment.vader import SentimentIntensityAnalyzer\n",
    "from sklearn.naive_bayes import MultinomialNB, BernoulliNB\n",
    "from sklearn import tree\n",
    "annalyzer = SentimentIntensityAnalyzer()\n",
    "\n",
    "# Defining a function to get the sentiment score\n",
    "def get_sentiment(text):\n",
    "    sentiment_score = annalyzer.polarity_scores(text)\n",
    "    return sentiment_score[\"compound\"]\n",
    "\n",
    "# Function to predict the target value for vader model \n",
    "def vader_output(data):\n",
    "    new_data = [] \n",
    "    for i in data:\n",
    "        sentiment = get_sentiment(i)\n",
    "        if sentiment > 0:new_data.append(\"__label__2\")\n",
    "        else:new_data.append(\"__label__1\")           \n",
    "    return new_data\n"
   ]
  },
  {
   "cell_type": "code",
   "execution_count": 46,
   "id": "7f88e195",
   "metadata": {},
   "outputs": [
    {
     "name": "stdout",
     "output_type": "stream",
     "text": [
      "version 1 accuracy =  0.68197\n"
     ]
    }
   ],
   "source": [
    "#VADER version 1\n",
    "data1 = []\n",
    "for i in train_data_version1:\n",
    "    data1.append(' '.join(s for s in i))\n",
    "y_pred1 = vader_output(data1)\n",
    "print(\"version 1 accuracy = \", accuracy_score(train_y, y_pred1))"
   ]
  },
  {
   "cell_type": "code",
   "execution_count": 47,
   "id": "00c04adf",
   "metadata": {},
   "outputs": [
    {
     "name": "stdout",
     "output_type": "stream",
     "text": [
      "version 2 accuracy =  0.68197\n"
     ]
    }
   ],
   "source": [
    "#VADER version 2\n",
    "data2 = []\n",
    "for i in train_data_version2:\n",
    "    data2.append(' '.join(s for s in i))\n",
    "y_pred2 = vader_output(data1)\n",
    "print(\"version 2 accuracy = \", accuracy_score(train_y, y_pred2))"
   ]
  },
  {
   "cell_type": "code",
   "execution_count": 48,
   "id": "7634150b",
   "metadata": {},
   "outputs": [
    {
     "name": "stdout",
     "output_type": "stream",
     "text": [
      "version 3 accuracy =  0.68197\n"
     ]
    }
   ],
   "source": [
    "#VADER version 3\n",
    "data3 = []\n",
    "for i in train_data_version3:\n",
    "    data3.append(' '.join(s for s in i))\n",
    "y_pred3 = vader_output(data1)\n",
    "print(\"version 3 accuracy = \", accuracy_score(train_y, y_pred3))"
   ]
  }
 ],
 "metadata": {
  "kernelspec": {
   "display_name": "Python 3 (ipykernel)",
   "language": "python",
   "name": "python3"
  },
  "language_info": {
   "codemirror_mode": {
    "name": "ipython",
    "version": 3
   },
   "file_extension": ".py",
   "mimetype": "text/x-python",
   "name": "python",
   "nbconvert_exporter": "python",
   "pygments_lexer": "ipython3",
   "version": "3.10.9"
  }
 },
 "nbformat": 4,
 "nbformat_minor": 5
}
